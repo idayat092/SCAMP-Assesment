{
 "cells": [
  {
   "cell_type": "code",
   "execution_count": 1,
   "metadata": {},
   "outputs": [],
   "source": [
    "def fib_seq(number,count):\n",
    "    \n",
    "    \"\"\"\n",
    "    The function outputs the fibonacci sequence of a given number:\n",
    "        Args:\n",
    "            The function takes in two arguments\n",
    "            - number: The number you want its fibonacci sequence\n",
    "            - count: The nth value where you want the sequence to stop\n",
    "    \n",
    "        Return:\n",
    "            The function returns the fibonacci sequence on \"number\" and stops at the \"count\" value.\n",
    "    \"\"\"\n",
    "    \n",
    "    prev = number - 1\n",
    "    seq = [prev]\n",
    "    seq.append(number)\n",
    "    x = 1\n",
    "    while x <= (count-2):\n",
    "        nth = seq[x] + (seq[x-1]) \n",
    "        seq.append(nth)\n",
    "        x += 1\n",
    "    return seq"
   ]
  },
  {
   "cell_type": "code",
   "execution_count": 2,
   "metadata": {},
   "outputs": [
    {
     "data": {
      "text/plain": [
       "[0, 1, 1, 2, 3, 5, 8, 13, 21, 34, 55, 89, 144]"
      ]
     },
     "execution_count": 2,
     "metadata": {},
     "output_type": "execute_result"
    }
   ],
   "source": [
    "#testing function\n",
    "fib_seq(1,13)"
   ]
  },
  {
   "cell_type": "code",
   "execution_count": null,
   "metadata": {},
   "outputs": [],
   "source": []
  }
 ],
 "metadata": {
  "kernelspec": {
   "display_name": "Python 3",
   "language": "python",
   "name": "python3"
  },
  "language_info": {
   "codemirror_mode": {
    "name": "ipython",
    "version": 3
   },
   "file_extension": ".py",
   "mimetype": "text/x-python",
   "name": "python",
   "nbconvert_exporter": "python",
   "pygments_lexer": "ipython3",
   "version": "3.7.3"
  }
 },
 "nbformat": 4,
 "nbformat_minor": 4
}
